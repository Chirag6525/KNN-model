{
 "cells": [
  {
   "cell_type": "code",
   "execution_count": 2,
   "id": "8aedbafa-c319-4134-ae7d-38c18f1bc383",
   "metadata": {},
   "outputs": [],
   "source": [
    "import math\n",
    "from collections import Counter"
   ]
  },
  {
   "cell_type": "code",
   "execution_count": 10,
   "id": "941da262-8256-4cdd-a51d-eab33a5e66dc",
   "metadata": {},
   "outputs": [
    {
     "name": "stdout",
     "output_type": "stream",
     "text": [
      "[(5.75, 0), (6.489999999999995, 9), (7.790000000000006, 4)]\n",
      "128.24666666666667\n",
      "[(1.0, 2), (1.0, 4), (2.0, 0)]\n",
      "1\n"
     ]
    }
   ],
   "source": [
    "def knn(data,query,k,distance_fn,choice_fn):\n",
    "    neighbor_dist = []\n",
    "    for index,ex in enumerate(data):\n",
    "        distance = distance_fn(ex[:-1],query)\n",
    "        neighbor_dist.append((distance,index))\n",
    "    sort_neighbor_dist =sorted(neighbor_dist)\n",
    "    k_nearest = sort_neighbor_dist[:k]\n",
    "    k_nearest_label = [data[i][-1] for distance, i in k_nearest]\n",
    "    return k_nearest, choice_fn(k_nearest_label)\n",
    "def mean(labels):\n",
    "    return sum(labels)/len(labels)\n",
    "def mode(labels):\n",
    "    return Counter(labels).most_common(1)[0][0]\n",
    "def euclidean_distance(p1,p2):\n",
    "    ssd = 0\n",
    "    for i in range(len(p1)):\n",
    "        ssd += math.pow(p1[i]-p2[i],2)\n",
    "    return math.sqrt(ssd)\n",
    "def main():\n",
    "    ## Regression Data Height and Weight\n",
    "    reg_data = [\n",
    "       [65.75, 112.99],\n",
    "       [71.52, 136.49],\n",
    "       [69.40, 153.03],\n",
    "       [68.22, 142.34],\n",
    "       [67.79, 144.30],\n",
    "       [68.70, 123.30],\n",
    "       [69.80, 141.49],\n",
    "       [70.01, 136.46],\n",
    "       [67.90, 112.37],\n",
    "       [66.49, 127.45],\n",
    "    ]\n",
    "    reg_query = [60]\n",
    "    reg_knn_neighbors,reg_pred = knn(reg_data,reg_query,k=3,distance_fn=euclidean_distance,choice_fn=mean)\n",
    "    print(reg_knn_neighbors)\n",
    "    print(reg_pred)\n",
    "    ## Classifiction Data Age,like pineapple\n",
    "    clf_data = [\n",
    "       [22, 1],\n",
    "       [23, 1],\n",
    "       [21, 1],\n",
    "       [18, 1],\n",
    "       [19, 1],\n",
    "       [25, 0],\n",
    "       [27, 0],\n",
    "       [29, 0],\n",
    "       [31, 0],\n",
    "       [45, 0],\n",
    "    ]\n",
    "    clf_query = [20]\n",
    "    clf_knn_neighbors,clf_pred = knn(clf_data,clf_query,k=3,distance_fn = euclidean_distance,choice_fn=mode)\n",
    "    print(clf_knn_neighbors)\n",
    "    print(clf_pred)\n",
    "if __name__ == '__main__':\n",
    "    main()\n",
    "    "
   ]
  },
  {
   "cell_type": "code",
   "execution_count": null,
   "id": "e003edf9-e1c1-4472-ab87-bf8c36b7c85f",
   "metadata": {},
   "outputs": [],
   "source": []
  }
 ],
 "metadata": {
  "kernelspec": {
   "display_name": "Python 3 (ipykernel)",
   "language": "python",
   "name": "python3"
  },
  "language_info": {
   "codemirror_mode": {
    "name": "ipython",
    "version": 3
   },
   "file_extension": ".py",
   "mimetype": "text/x-python",
   "name": "python",
   "nbconvert_exporter": "python",
   "pygments_lexer": "ipython3",
   "version": "3.12.4"
  }
 },
 "nbformat": 4,
 "nbformat_minor": 5
}
