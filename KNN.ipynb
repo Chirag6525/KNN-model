{
 "cells": [
  {
   "cell_type": "code",
   "execution_count": 2,
   "id": "8aedbafa-c319-4134-ae7d-38c18f1bc383",
   "metadata": {},
   "outputs": [],
   "source": [
    "import math\n",
    "from collections import Counter"
   ]
  },
  {
   "cell_type": "code",
   "execution_count": null,
   "id": "941da262-8256-4cdd-a51d-eab33a5e66dc",
   "metadata": {},
   "outputs": [],
   "source": [
    "def knn(data,query,k,distance_fn,choice_fn):\n",
    "    neighbor_dist = []\n",
    "    for index,ex in enumerate(data):\n",
    "        distance = distance_fn(ex[:-1],query)\n",
    "        neighbor_dist.append((distance,index))\n",
    "    sort_neighbor_dist =sorted(neighbor_dist)\n",
    "    k_nearest = sort_neighbor_dist[:k]\n",
    "    k_nearest_label = [data[i][-1] for distance, i in k_nearest]\n",
    "    return k_nearest, choice_fn(k_nearest_label)\n",
    "def mean(labels):\n",
    "    return sum(labels)/len(labels)\n",
    "def mode(labels):\n",
    "    return Counter(labels).most_common(1)[0][0]\n",
    "def euclidean_distance()"
   ]
  }
 ],
 "metadata": {
  "kernelspec": {
   "display_name": "Python 3 (ipykernel)",
   "language": "python",
   "name": "python3"
  },
  "language_info": {
   "codemirror_mode": {
    "name": "ipython",
    "version": 3
   },
   "file_extension": ".py",
   "mimetype": "text/x-python",
   "name": "python",
   "nbconvert_exporter": "python",
   "pygments_lexer": "ipython3",
   "version": "3.12.4"
  }
 },
 "nbformat": 4,
 "nbformat_minor": 5
}
